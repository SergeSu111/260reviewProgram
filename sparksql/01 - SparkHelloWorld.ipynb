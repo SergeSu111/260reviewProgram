{
  "cells": [
    {
      "cell_type": "code",
      "execution_count": 1,
      "metadata": {
        "id": "I-1vJyPFD9y_",
        "outputId": "11adac36-b938-486a-e86f-471884dd2c7b",
        "colab": {
          "base_uri": "https://localhost:8080/"
        }
      },
      "outputs": [
        {
          "output_type": "stream",
          "name": "stdout",
          "text": [
            "Requirement already satisfied: pyspark in /usr/local/lib/python3.11/dist-packages (3.5.1)\n",
            "Requirement already satisfied: py4j==0.10.9.7 in /usr/local/lib/python3.11/dist-packages (from pyspark) (0.10.9.7)\n"
          ]
        }
      ],
      "source": [
        "# Setup Spark SQL\n",
        "# Note if running locally you need the JVM https://www.oracle.com/java/technologies/downloads/\n",
        "# Consider running in https://colab.research.google.com/\n",
        "%pip install pyspark"
      ]
    },
    {
      "cell_type": "code",
      "execution_count": 2,
      "metadata": {
        "id": "KkohZpCQD9zB"
      },
      "outputs": [],
      "source": [
        "\n",
        "import pyspark\n",
        "from pyspark.sql import SparkSession\n",
        "\n",
        "spark = SparkSession.builder.appName(\"BibleCounter\").getOrCreate()\n",
        "sc = spark.sparkContext\n",
        "sc.setLogLevel('WARN')"
      ]
    },
    {
      "cell_type": "code",
      "execution_count": 3,
      "metadata": {
        "id": "My7nklU2D9zC",
        "outputId": "790c9a47-8a7a-4f35-85d8-fcbd7026eac3",
        "colab": {
          "base_uri": "https://localhost:8080/"
        }
      },
      "outputs": [
        {
          "output_type": "stream",
          "name": "stdout",
          "text": [
            "  % Total    % Received % Xferd  Average Speed   Time    Time     Time  Current\n",
            "                                 Dload  Upload   Total   Spent    Left  Speed\n",
            "100 4351k  100 4351k    0     0  7459k      0 --:--:-- --:--:-- --:--:-- 7451k\n"
          ]
        }
      ],
      "source": [
        "# Download the bible as txt\n",
        "!curl -L \"https://www.gutenberg.org/cache/epub/10/pg10.txt\" > bible.txt"
      ]
    },
    {
      "cell_type": "code",
      "execution_count": 6,
      "metadata": {
        "id": "kihDT3hUD9zC",
        "outputId": "00ccd709-7fac-46cd-ca1f-341bee5d45e1",
        "colab": {
          "base_uri": "https://localhost:8080/"
        }
      },
      "outputs": [
        {
          "output_type": "stream",
          "name": "stdout",
          "text": [
            "+-----+-----+\n",
            "|word |cnt  |\n",
            "+-----+-----+\n",
            "|the  |64309|\n",
            "|and  |51762|\n",
            "|of   |34846|\n",
            "|to   |13680|\n",
            "|that |12927|\n",
            "|in   |12727|\n",
            "|he   |10422|\n",
            "|shall|9840 |\n",
            "|unto |8997 |\n",
            "|for  |8997 |\n",
            "|i    |8854 |\n",
            "|his  |8473 |\n",
            "|a    |8235 |\n",
            "|lord |7964 |\n",
            "|they |7378 |\n",
            "|be   |7030 |\n",
            "|is   |7012 |\n",
            "|him  |6659 |\n",
            "|not  |6624 |\n",
            "|them |6430 |\n",
            "+-----+-----+\n",
            "\n"
          ]
        }
      ],
      "source": [
        "# Use SparkSQL to list all the words in the bible with their counts sorted descending by count.\n",
        "# Turn in your code and sample of your results (at least top 20).\n",
        "# Be sure to ignore case and punctuation and eliminate the blank lines.\n",
        "from pyspark.sql.functions import lower, regexp_replace, split, explode, col\n",
        "\n",
        "# 1. 读取全文，并去掉空行\n",
        "lines = spark.read.text(\"bible.txt\") \\\n",
        "    .filter(col(\"value\") != \"\")\n",
        "\n",
        "# 2. 清洗：全转小写、把非 a–z 字符都替成空格；然后切分、explode 成每行一个单词\n",
        "words = (\n",
        "    lines\n",
        "    .select(regexp_replace(lower(col(\"value\")), \"[^a-z\\\\s]\", \" \").alias(\"clean_line\"))\n",
        "    .select(explode(split(col(\"clean_line\"), \"\\\\s+\")).alias(\"word\"))\n",
        "    .filter(col(\"word\") != \"\")\n",
        ")\n",
        "\n",
        "# 3. 注册成临时视图，用 Spark SQL 做分组计数、排序、取前 20\n",
        "words.createOrReplaceTempView(\"words_view\")\n",
        "\n",
        "top20 = spark.sql(\"\"\"\n",
        "  SELECT word,\n",
        "         COUNT(*) AS cnt\n",
        "    FROM words_view\n",
        "   GROUP BY word\n",
        "   ORDER BY cnt DESC\n",
        "   LIMIT 20\n",
        "\"\"\")\n",
        "\n",
        "top20.show(20, False)"
      ]
    },
    {
      "cell_type": "code",
      "execution_count": null,
      "metadata": {
        "id": "gGlJpTv8D9zD"
      },
      "outputs": [],
      "source": [
        "# What to try something else?"
      ]
    }
  ],
  "metadata": {
    "kernelspec": {
      "display_name": "Python 3.10.9 64-bit",
      "language": "python",
      "name": "python3"
    },
    "language_info": {
      "codemirror_mode": {
        "name": "ipython",
        "version": 3
      },
      "file_extension": ".py",
      "mimetype": "text/x-python",
      "name": "python",
      "nbconvert_exporter": "python",
      "pygments_lexer": "ipython3",
      "version": "3.11.3"
    },
    "orig_nbformat": 4,
    "vscode": {
      "interpreter": {
        "hash": "b0fa6594d8f4cbf19f97940f81e996739fb7646882a419484c72d19e05852a7e"
      }
    },
    "colab": {
      "provenance": []
    }
  },
  "nbformat": 4,
  "nbformat_minor": 0
}